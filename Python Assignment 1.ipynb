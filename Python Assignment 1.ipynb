{
 "cells": [
  {
   "cell_type": "markdown",
   "metadata": {},
   "source": [
    "POEM "
   ]
  },
  {
   "cell_type": "code",
   "execution_count": 11,
   "metadata": {},
   "outputs": [
    {
     "name": "stdout",
     "output_type": "stream",
     "text": [
      "Twinkle Twinkle Little star\n",
      " \tHow I wonder what you are!\n",
      " \t\tUp above the world so high\n",
      " \t\tlike a diamond in the sky \n",
      " \tTwinkle Twinkle Little star\n",
      " \t\tHow I wonder what you are!\n"
     ]
    }
   ],
   "source": [
    "print(\"Twinkle Twinkle Little star\\n \\tHow I wonder what you are!\\n \\t\\tUp above the world so high\\n \\t\\tlike a diamond in the sky \\n \\tTwinkle Twinkle Little star\\n \\t\\tHow I wonder what you are!\")\n"
   ]
  },
  {
   "cell_type": "markdown",
   "metadata": {},
   "source": [
    "Python Version"
   ]
  },
  {
   "cell_type": "code",
   "execution_count": 12,
   "metadata": {},
   "outputs": [
    {
     "name": "stdout",
     "output_type": "stream",
     "text": [
      "3.8.8 (default, Apr 13 2021, 15:08:03) [MSC v.1916 64 bit (AMD64)]\n"
     ]
    }
   ],
   "source": [
    "print(sys.version)"
   ]
  },
  {
   "cell_type": "markdown",
   "metadata": {},
   "source": [
    "Check current Date"
   ]
  },
  {
   "cell_type": "code",
   "execution_count": 21,
   "metadata": {},
   "outputs": [
    {
     "name": "stdout",
     "output_type": "stream",
     "text": [
      "2022-01-01\n"
     ]
    }
   ],
   "source": [
    "import datetime\n",
    "\n",
    "print(datetime.date.today())"
   ]
  },
  {
   "cell_type": "markdown",
   "metadata": {},
   "source": [
    "Calculate the circumference"
   ]
  },
  {
   "cell_type": "code",
   "execution_count": 28,
   "metadata": {},
   "outputs": [
    {
     "name": "stdout",
     "output_type": "stream",
     "text": [
      "radius is: 40\n",
      "circumferce is: 251.32741228718345\n"
     ]
    }
   ],
   "source": [
    "\n",
    "import math\n",
    "radius = input(\"Enter the radius value: \")\n",
    "circumferce = 2 * math.pi * float(radius)\n",
    "print(\"radius is: \" + radius)\n",
    "print(\"circumferce is: \" + str(circumferce) )\n"
   ]
  },
  {
   "cell_type": "markdown",
   "metadata": {},
   "source": [
    "Reverse the name"
   ]
  },
  {
   "cell_type": "code",
   "execution_count": 33,
   "metadata": {},
   "outputs": [
    {
     "name": "stdout",
     "output_type": "stream",
     "text": [
      "zioM  dammahuM\n"
     ]
    }
   ],
   "source": [
    "firstName  = input(\"Enter your First Name: \" )\n",
    "lastName = input(\"Enter your Last Name: \")\n",
    "fullName = firstName + \" \" + lastName\n",
    "reverseName = fullName [::-1] \n",
    "print (reverseName)"
   ]
  },
  {
   "cell_type": "code",
   "execution_count": null,
   "metadata": {},
   "outputs": [],
   "source": [
    "Sum the numbers"
   ]
  },
  {
   "cell_type": "code",
   "execution_count": 40,
   "metadata": {},
   "outputs": [
    {
     "name": "stdout",
     "output_type": "stream",
     "text": [
      "Num 1 = 10\n",
      "Num 2 = 30\n",
      "The sum is : 40\n"
     ]
    }
   ],
   "source": [
    "num1=  input(\"Enter first Number to sum up\")\n",
    "num2  = input(\"Enter second Number to sum up\")\n",
    "num = int(num1) + int(num2) \n",
    "print(\"Num 1 = \" + str(num1))\n",
    "print(\"Num 2 = \" + str(num2))\n",
    "print(\"The sum is : \" + str(num))"
   ]
  },
  {
   "cell_type": "code",
   "execution_count": null,
   "metadata": {},
   "outputs": [],
   "source": []
  },
  {
   "cell_type": "code",
   "execution_count": null,
   "metadata": {},
   "outputs": [],
   "source": []
  }
 ],
 "metadata": {
  "interpreter": {
   "hash": "b3ba2566441a7c06988d0923437866b63cedc61552a5af99d1f4fb67d367b25f"
  },
  "kernelspec": {
   "display_name": "Python 3.8.8 64-bit ('base': conda)",
   "language": "python",
   "name": "python3"
  },
  "language_info": {
   "codemirror_mode": {
    "name": "ipython",
    "version": 3
   },
   "file_extension": ".py",
   "mimetype": "text/x-python",
   "name": "python",
   "nbconvert_exporter": "python",
   "pygments_lexer": "ipython3",
   "version": "3.8.8"
  },
  "orig_nbformat": 4
 },
 "nbformat": 4,
 "nbformat_minor": 2
}
